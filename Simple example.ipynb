{
 "cells": [
  {
   "cell_type": "code",
   "execution_count": 1,
   "metadata": {},
   "outputs": [],
   "source": [
    "import pandas as pd\n",
    "import os\n",
    "import logging\n",
    "\n",
    "logging.basicConfig(level=logging.INFO)\n",
    "from jointsbm.core.jointsbm import SBMEstimator\n",
    "from jointsbm.extra.evaluation import Evaluator\n",
    "from jointsbm.core.graph import GraphHandler"
   ]
  },
  {
   "cell_type": "code",
   "execution_count": 8,
   "metadata": {},
   "outputs": [],
   "source": [
    "dir_path = \"data/N_2000_fixed_50_alpha_1/\"\n",
    "edgelistsFiles = [os.path.join(dir_path,f) for f in os.listdir(dir_path) if f.find(\"edge\")>0]\n",
    "membFiles = [os.path.join(dir_path,f) for f in os.listdir(dir_path) if f.find(\"memb\")>0]"
   ]
  },
  {
   "cell_type": "code",
   "execution_count": 9,
   "metadata": {},
   "outputs": [],
   "source": [
    "graphs = {}\n",
    "for f in edgelistsFiles:\n",
    "    graphName = os.path.split(f)[1].split(\".\")[0]\n",
    "    graphs[graphName] = pd.read_csv(f).values-1.\n",
    "\n",
    "groundTruth = {}\n",
    "for f in membFiles:\n",
    "    graphName = os.path.split(f)[1].split(\".\")[0]\n",
    "    groundTruth[graphName] = pd.read_csv(f).values[:,1]    "
   ]
  },
  {
   "cell_type": "code",
   "execution_count": 12,
   "metadata": {},
   "outputs": [
    {
     "name": "stderr",
     "output_type": "stream",
     "text": [
      "INFO:jointsbm.core.graph:Converting edge lists to sparse adjacency matrices...\n",
      "INFO:jointsbm.core.graph:Processed 2000 graphs with 100000 total nodes\n",
      "INFO:jointsbm.core.jointsbm:Fitting SBM model...\n",
      "INFO:jointsbm.core.jointsbm:Model not initialized. Initializing now...\n",
      "INFO:jointsbm.core.jointsbm:Initializing SBM model...\n",
      "INFO:jointsbm.core.jointsbm:Pulling pooled spectral embeddings...\n",
      "INFO:jointsbm.core.jointsbm:Initialization complete.\n",
      "INFO:jointsbm.core.jointsbm:Iteration 10: loss = 3497.946933, stopValue = 7.797730\n",
      "INFO:jointsbm.core.jointsbm:Iteration 20: loss = 3606.580148, stopValue = 1.735127\n",
      "INFO:jointsbm.core.jointsbm:Iteration 30: loss = 3616.250255, stopValue = 0.219453\n",
      "INFO:jointsbm.core.jointsbm:Iteration 40: loss = 3616.667234, stopValue = 0.014044\n",
      "INFO:jointsbm.core.jointsbm:Fitting complete.\n",
      "INFO:jointsbm.core.jointsbm:Final loss = 3616.675874, total iterations = 43\n"
     ]
    }
   ],
   "source": [
    "sbmer = SBMEstimator(graphs=GraphHandler(graphs, n_nodes=50), K=6, seed=2, parallel=False)\n",
    "res = sbmer.fit()"
   ]
  },
  {
   "cell_type": "code",
   "execution_count": 13,
   "metadata": {},
   "outputs": [
    {
     "data": {
      "text/plain": [
       "{'NMI': {'nmi': np.float64(0.6380128488752161),\n",
       "  'overall_nmi': 0.4529271740602961},\n",
       " 'ARI': {'ari': np.float64(0.5281053628337263),\n",
       "  'overall_ari': 0.36615785160705583},\n",
       " 'MCR': {'mcr': np.float64(0.8163400000000001),\n",
       "  'overall_mcr': np.float64(0.64711)}}"
      ]
     },
     "execution_count": 13,
     "metadata": {},
     "output_type": "execute_result"
    }
   ],
   "source": [
    "Evaluator(groundTruth).evaluate(res.memberships)"
   ]
  },
  {
   "cell_type": "code",
   "execution_count": null,
   "metadata": {},
   "outputs": [],
   "source": []
  }
 ],
 "metadata": {
  "kernelspec": {
   "display_name": "jointsbm-py3.13",
   "language": "python",
   "name": "python3"
  },
  "language_info": {
   "codemirror_mode": {
    "name": "ipython",
    "version": 3
   },
   "file_extension": ".py",
   "mimetype": "text/x-python",
   "name": "python",
   "nbconvert_exporter": "python",
   "pygments_lexer": "ipython3",
   "version": "3.13.1"
  },
  "latex_envs": {
   "LaTeX_envs_menu_present": true,
   "autoclose": false,
   "autocomplete": true,
   "bibliofile": "biblio.bib",
   "cite_by": "apalike",
   "current_citInitial": 1,
   "eqLabelWithNumbers": true,
   "eqNumInitial": 1,
   "hotkeys": {
    "equation": "Ctrl-E",
    "itemize": "Ctrl-I"
   },
   "labels_anchors": false,
   "latex_user_defs": false,
   "report_style_numbering": false,
   "user_envs_cfg": false
  }
 },
 "nbformat": 4,
 "nbformat_minor": 2
}
