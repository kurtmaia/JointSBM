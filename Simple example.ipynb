{
 "cells": [
  {
   "cell_type": "code",
   "execution_count": null,
   "metadata": {},
   "outputs": [],
   "source": [
    "import pandas as pd\n",
    "import os\n",
    "import logging\n",
    "\n",
    "\n",
    "logging.basicConfig(level=logging.INFO)\n",
    "from jointsbm.core.jointsbm import SBMEstimator\n",
    "from jointsbm.extra.evaluation import Evaluator\n",
    "from jointsbm.extra.plotting import plot_connectivity_matrix\n",
    "from jointsbm.core.graph import GraphHandler\n",
    "\n",
    "from jointsbm.core._jointsbm import JointSBM"
   ]
  },
  {
   "cell_type": "code",
   "execution_count": 3,
   "metadata": {},
   "outputs": [],
   "source": [
    "dir_path = \"data/N_100_fixed_200_alpha_20/\"\n",
    "edgelistsFiles = [os.path.join(dir_path,f) for f in os.listdir(dir_path) if f.find(\"edge\")>0]\n",
    "membFiles = [os.path.join(dir_path,f) for f in os.listdir(dir_path) if f.find(\"memb\")>0]"
   ]
  },
  {
   "cell_type": "code",
   "execution_count": 4,
   "metadata": {},
   "outputs": [],
   "source": [
    "graphs = {}\n",
    "for f in edgelistsFiles:\n",
    "    graphName = os.path.split(f)[1].split(\".\")[0]\n",
    "    graphs[graphName] = pd.read_csv(f).values-1.\n",
    "\n",
    "groundTruth = {}\n",
    "for f in membFiles:\n",
    "    graphName = os.path.split(f)[1].split(\".\")[0]\n",
    "    groundTruth[graphName] = pd.read_csv(f).values[:,1]    "
   ]
  },
  {
   "cell_type": "code",
   "execution_count": 5,
   "metadata": {},
   "outputs": [
    {
     "name": "stderr",
     "output_type": "stream",
     "text": [
      "INFO:jointsbm.core.graph:Converting edge lists to sparse adjacency matrices...\n",
      "INFO:jointsbm.core.graph:Processed 100 graphs with 20000 total nodes\n",
      "INFO:jointsbm.core.jointsbm:Fitting SBM model...\n",
      "INFO:jointsbm.core.jointsbm:Model not initialized. Initializing now...\n",
      "INFO:jointsbm.core.jointsbm:Initializing SBM model...\n",
      "INFO:jointsbm.core.jointsbm:Pulling pooled spectral embeddings...\n",
      "INFO:jointsbm.core.jointsbm:Initialization complete.\n",
      "/Users/guilhermegomes/Documents/JointSBM/jointsbm/core/jointsbm.py:184: RuntimeWarning: divide by zero encountered in divide\n",
      "  self.gamma_n = 1 / self.cluster_sizes @ self.cluster_sizes_n.T\n",
      "/Users/guilhermegomes/Documents/JointSBM/jointsbm/core/jointsbm.py:184: RuntimeWarning: invalid value encountered in matmul\n",
      "  self.gamma_n = 1 / self.cluster_sizes @ self.cluster_sizes_n.T\n",
      "WARNING:jointsbm.core.jointsbm:One or more clusters have zero size. Reinitializing model.\n",
      "INFO:jointsbm.core.jointsbm:Initializing SBM model...\n",
      "INFO:jointsbm.core.jointsbm:Pulling pooled spectral embeddings...\n",
      "INFO:jointsbm.core.jointsbm:Initialization complete.\n",
      "INFO:jointsbm.core.jointsbm:Iteration 10: loss = 75435.480509, stopValue = 587.106450\n",
      "INFO:jointsbm.core.jointsbm:Iteration 20: loss = 73114.582390, stopValue = 444.181623\n",
      "INFO:jointsbm.core.jointsbm:Iteration 30: loss = 72139.825648, stopValue = 9.032071\n",
      "INFO:jointsbm.core.jointsbm:Fitting complete.\n",
      "INFO:jointsbm.core.jointsbm:Final loss = 72138.474658, total iterations = 32\n",
      "/Users/guilhermegomes/Documents/JointSBM/jointsbm/utils/stats.py:56: RuntimeWarning: invalid value encountered in divide\n",
      "  ans = An_c * 1.0 / N_c\n"
     ]
    }
   ],
   "source": [
    "sbmer = SBMEstimator(graphs=GraphHandler(graphs), K=6, seed=2, parallel=False)\n",
    "res = sbmer.fit()"
   ]
  },
  {
   "cell_type": "code",
   "execution_count": 15,
   "metadata": {},
   "outputs": [],
   "source": [
    "from scipy.linalg import eig, inv, pinv\n",
    "\n",
    "X = sbmer.X\n",
    "graphs = sbmer.graphs\n",
    "\n",
    "# X, [g.adjacency_matrix for g in graphs]"
   ]
  },
  {
   "cell_type": "code",
   "execution_count": 18,
   "metadata": {},
   "outputs": [
    {
     "data": {
      "text/plain": [
       "array([[0.        , 0.        , 0.        , 0.        , 0.        ,\n",
       "        0.        ],\n",
       "       [0.        , 0.5       , 0.        , 0.        , 0.        ,\n",
       "        0.        ],\n",
       "       [0.        , 0.        , 0.        , 0.        , 0.        ,\n",
       "        0.        ],\n",
       "       [0.        , 0.        , 0.        , 0.33333333, 0.        ,\n",
       "        0.        ],\n",
       "       [0.        , 0.        , 0.        , 0.        , 0.        ,\n",
       "        0.        ],\n",
       "       [0.        , 0.        , 0.        , 0.        , 0.        ,\n",
       "        0.00512821]])"
      ]
     },
     "execution_count": 18,
     "metadata": {},
     "output_type": "execute_result"
    }
   ],
   "source": [
    "pinv(X[0].T @ X[0])"
   ]
  },
  {
   "cell_type": "code",
   "execution_count": null,
   "metadata": {},
   "outputs": [],
   "source": [
    "H0 = pinv(X[0].T @ X[0]) \n",
    "\n",
    "\n"
   ]
  },
  {
   "cell_type": "code",
   "execution_count": null,
   "metadata": {},
   "outputs": [],
   "source": [
    "def get_connectivity_matrix()\n",
    "\n",
    "total = np.zeros((6,6))\n",
    "obs = np.zeros((6,6))\n",
    "for i,x in enumerate(X):\n",
    "    n_nodes = x.shape[0]\n",
    "    total += x.T  @ (np.ones((n_nodes,n_nodes)) - np.eye(n_nodes)) @ x\n",
    "    obs += (x.T  @ graphs.graphs[i].adjacency_matrix @ x)"
   ]
  },
  {
   "cell_type": "code",
   "execution_count": 31,
   "metadata": {},
   "outputs": [
    {
     "data": {
      "text/plain": [
       "array([[1.37000e+03, 6.40000e+01, 0.00000e+00, 0.00000e+00, 0.00000e+00,\n",
       "        0.00000e+00],\n",
       "       [6.40000e+01, 3.18100e+04, 1.89700e+03, 5.52900e+03, 1.60800e+03,\n",
       "        7.19000e+02],\n",
       "       [0.00000e+00, 1.89700e+03, 3.12560e+04, 4.47700e+03, 4.46800e+03,\n",
       "        6.45300e+03],\n",
       "       [0.00000e+00, 5.52900e+03, 4.47700e+03, 1.02132e+05, 9.38800e+03,\n",
       "        2.90590e+04],\n",
       "       [0.00000e+00, 1.60800e+03, 4.46800e+03, 9.38800e+03, 9.69038e+05,\n",
       "        3.67030e+04],\n",
       "       [0.00000e+00, 7.19000e+02, 6.45300e+03, 2.90590e+04, 3.67030e+04,\n",
       "        3.73752e+05]])"
      ]
     },
     "execution_count": 31,
     "metadata": {},
     "output_type": "execute_result"
    }
   ],
   "source": [
    "obs"
   ]
  },
  {
   "cell_type": "code",
   "execution_count": 33,
   "metadata": {},
   "outputs": [
    {
     "name": "stderr",
     "output_type": "stream",
     "text": [
      "/var/folders/93/g3mybg_57p16jzvjbpkk1jlw0000gn/T/ipykernel_83665/3054728237.py:1: RuntimeWarning: invalid value encountered in divide\n",
      "  plot_connectivity_matrix(obs/total)\n"
     ]
    },
    {
     "data": {
      "text/plain": [
       "<Axes: title={'center': 'Connectivity Matrix'}>"
      ]
     },
     "execution_count": 33,
     "metadata": {},
     "output_type": "execute_result"
    },
    {
     "data": {
      "image/png": "[encoded data removed]",
      "text/plain": [
       "<Figure size 800x600 with 2 Axes>"
      ]
     },
     "metadata": {},
     "output_type": "display_data"
    }
   ],
   "source": [
    "plot_connectivity_matrix(obs/total)"
   ]
  },
  {
   "cell_type": "code",
   "execution_count": 8,
   "metadata": {},
   "outputs": [
    {
     "data": {
      "text/plain": [
       "<Axes: title={'center': 'Estimated connectivity matrices'}>"
      ]
     },
     "execution_count": 8,
     "metadata": {},
     "output_type": "execute_result"
    },
    {
     "data": {
      "image/png": "[encoded data removed]",
      "text/plain": [
       "<Figure size 800x600 with 2 Axes>"
      ]
     },
     "metadata": {},
     "output_type": "display_data"
    }
   ],
   "source": [
    "plot_connectivity_matrix(res, title=\"Estimated connectivity matrices\")"
   ]
  },
  {
   "cell_type": "code",
   "execution_count": 5,
   "metadata": {},
   "outputs": [
    {
     "data": {
      "text/plain": [
       "{'NMI': {'nmi': np.float64(0.7028209087069084),\n",
       "  'overall_nmi': 0.59229081175941},\n",
       " 'ARI': {'ari': np.float64(0.7178757485992449),\n",
       "  'overall_ari': 0.5179664446037396},\n",
       " 'MCR': {'mcr': np.float64(0.94825), 'overall_mcr': np.float64(0.84335)}}"
      ]
     },
     "execution_count": 5,
     "metadata": {},
     "output_type": "execute_result"
    }
   ],
   "source": [
    "Evaluator(groundTruth).evaluate(res.memberships)"
   ]
  },
  {
   "cell_type": "code",
   "execution_count": 17,
   "metadata": {},
   "outputs": [
    {
     "name": "stdout",
     "output_type": "stream",
     "text": [
      "Converting edgelists to sparse adjacency matrices...\n"
     ]
    },
    {
     "name": "stderr",
     "output_type": "stream",
     "text": [
      "100%|██████████| 2000/2000 [00:06<00:00, 308.88it/s]\n"
     ]
    }
   ],
   "source": [
    "aa = JointSBM(graphs=graphs, K = 6, n = 50, groundTruth=groundTruth).fit()"
   ]
  },
  {
   "cell_type": "code",
   "execution_count": 18,
   "metadata": {},
   "outputs": [
    {
     "data": {
      "text/plain": [
       "{0: {'NMI': {'nmi': np.float64(0.5506343551144343),\n",
       "   'overall_nmi': 0.37932940373529617},\n",
       "  'ARI': {'ari': np.float64(0.39510616820360606),\n",
       "   'overall_ari': 0.2926318352236029},\n",
       "  'MCR': {'mcr': np.float64(0.7880199999999999),\n",
       "   'overall_mcr': np.float64(0.70895)},\n",
       "  'Time': 1.1610817909240723},\n",
       " 1: {'NMI': {'nmi': np.float64(0.5874561417347097),\n",
       "   'overall_nmi': 0.40069349829236217},\n",
       "  'ARI': {'ari': np.float64(0.4421404545081472),\n",
       "   'overall_ari': 0.3318153034722395},\n",
       "  'MCR': {'mcr': np.float64(0.74597), 'overall_mcr': np.float64(0.61559)},\n",
       "  'Time': 1.124208927154541},\n",
       " 2: {'NMI': {'nmi': np.float64(0.5984831377612699),\n",
       "   'overall_nmi': 0.41181787964597627},\n",
       "  'ARI': {'ari': np.float64(0.4605433117838096),\n",
       "   'overall_ari': 0.3522291116449354},\n",
       "  'MCR': {'mcr': np.float64(0.7298600000000001),\n",
       "   'overall_mcr': np.float64(0.59646)},\n",
       "  'Time': 1.1237990856170654},\n",
       " 3: {'NMI': {'nmi': np.float64(0.6159254729247403),\n",
       "   'overall_nmi': 0.43027792802944603},\n",
       "  'ARI': {'ari': np.float64(0.4796430120194132),\n",
       "   'overall_ari': 0.3710856030809743},\n",
       "  'MCR': {'mcr': np.float64(0.73472), 'overall_mcr': np.float64(0.61388)},\n",
       "  'Time': 1.126579999923706},\n",
       " 4: {'NMI': {'nmi': np.float64(0.6295224756347232),\n",
       "   'overall_nmi': 0.4453009032691571},\n",
       "  'ARI': {'ari': np.float64(0.49499826296711774),\n",
       "   'overall_ari': 0.38367960160152126},\n",
       "  'MCR': {'mcr': np.float64(0.74587), 'overall_mcr': np.float64(0.63242)},\n",
       "  'Time': 1.128443956375122},\n",
       " 5: {'NMI': {'nmi': np.float64(0.6352466280881792),\n",
       "   'overall_nmi': 0.45043158666913474},\n",
       "  'ARI': {'ari': np.float64(0.5022805931380872),\n",
       "   'overall_ari': 0.38596143598890365},\n",
       "  'MCR': {'mcr': np.float64(0.7514500000000001),\n",
       "   'overall_mcr': np.float64(0.63357)},\n",
       "  'Time': 1.1307919025421143},\n",
       " 6: {'NMI': {'nmi': np.float64(0.6401354679756879),\n",
       "   'overall_nmi': 0.4544395807970219},\n",
       "  'ARI': {'ari': np.float64(0.5083826984440178),\n",
       "   'overall_ari': 0.38549719084333384},\n",
       "  'MCR': {'mcr': np.float64(0.75606), 'overall_mcr': np.float64(0.62776)},\n",
       "  'Time': 1.1304130554199219},\n",
       " 7: {'NMI': {'nmi': np.float64(0.6443145761664963),\n",
       "   'overall_nmi': 0.4576667279235914},\n",
       "  'ARI': {'ari': np.float64(0.5132607550491832),\n",
       "   'overall_ari': 0.38331176000074874},\n",
       "  'MCR': {'mcr': np.float64(0.75957), 'overall_mcr': np.float64(0.61746)},\n",
       "  'Time': 1.1283740997314453},\n",
       " 8: {'NMI': {'nmi': np.float64(0.6472671587163747),\n",
       "   'overall_nmi': 0.46044639288838585},\n",
       "  'ARI': {'ari': np.float64(0.5164452031595249),\n",
       "   'overall_ari': 0.38095343379661933},\n",
       "  'MCR': {'mcr': np.float64(0.76105), 'overall_mcr': np.float64(0.60576)},\n",
       "  'Time': 1.125889778137207},\n",
       " 9: {'NMI': {'nmi': np.float64(0.649510702918809),\n",
       "   'overall_nmi': 0.46178880139176054},\n",
       "  'ARI': {'ari': np.float64(0.5187125496121472),\n",
       "   'overall_ari': 0.37858220914248514},\n",
       "  'MCR': {'mcr': np.float64(0.76239), 'overall_mcr': np.float64(0.59539)},\n",
       "  'Time': 1.1429831981658936},\n",
       " 10: {'NMI': {'nmi': np.float64(0.650976329717315),\n",
       "   'overall_nmi': 0.46253107647719516},\n",
       "  'ARI': {'ari': np.float64(0.5195318026203183),\n",
       "   'overall_ari': 0.3762628219679256},\n",
       "  'MCR': {'mcr': np.float64(0.76281), 'overall_mcr': np.float64(0.58651)},\n",
       "  'Time': 1.124518871307373},\n",
       " 11: {'NMI': {'nmi': np.float64(0.6517001606578995),\n",
       "   'overall_nmi': 0.46259637932097636},\n",
       "  'ARI': {'ari': np.float64(0.5197654391461675),\n",
       "   'overall_ari': 0.37393371545912424},\n",
       "  'MCR': {'mcr': np.float64(0.76292), 'overall_mcr': np.float64(0.5793)},\n",
       "  'Time': 1.1269538402557373},\n",
       " 12: {'NMI': {'nmi': np.float64(0.6518401910650649),\n",
       "   'overall_nmi': 0.4624310342697726},\n",
       "  'ARI': {'ari': np.float64(0.5193173058016228),\n",
       "   'overall_ari': 0.37180940357579234},\n",
       "  'MCR': {'mcr': np.float64(0.7628), 'overall_mcr': np.float64(0.57333)},\n",
       "  'Time': 1.1543221473693848},\n",
       " 13: {'NMI': {'nmi': np.float64(0.6519923662841507),\n",
       "   'overall_nmi': 0.46226679709137053},\n",
       "  'ARI': {'ari': np.float64(0.5187749999557727),\n",
       "   'overall_ari': 0.3703006191050208},\n",
       "  'MCR': {'mcr': np.float64(0.7624099999999999),\n",
       "   'overall_mcr': np.float64(0.56901)},\n",
       "  'Time': 1.140411138534546},\n",
       " 14: {'NMI': {'nmi': np.float64(0.6522014345220694),\n",
       "   'overall_nmi': 0.4625596938146926},\n",
       "  'ARI': {'ari': np.float64(0.5188020257786752),\n",
       "   'overall_ari': 0.36952053869285884},\n",
       "  'MCR': {'mcr': np.float64(0.76271), 'overall_mcr': np.float64(0.56642)},\n",
       "  'Time': 1.1321930885314941},\n",
       " 15: {'NMI': {'nmi': np.float64(0.6524339268507465),\n",
       "   'overall_nmi': 0.4625898343519277},\n",
       "  'ARI': {'ari': np.float64(0.5187518499831854),\n",
       "   'overall_ari': 0.3687482214935061},\n",
       "  'MCR': {'mcr': np.float64(0.76266), 'overall_mcr': np.float64(0.56442)},\n",
       "  'Time': 1.1519947052001953},\n",
       " 16: {'NMI': {'nmi': np.float64(0.6524581383372982),\n",
       "   'overall_nmi': 0.4625496147188833},\n",
       "  'ARI': {'ari': np.float64(0.518400221094359),\n",
       "   'overall_ari': 0.3681786717626164},\n",
       "  'MCR': {'mcr': np.float64(0.7624500000000001),\n",
       "   'overall_mcr': np.float64(0.5628)},\n",
       "  'Time': 1.1258518695831299},\n",
       " 17: {'NMI': {'nmi': np.float64(0.6524020283007967),\n",
       "   'overall_nmi': 0.4624776620341843},\n",
       "  'ARI': {'ari': np.float64(0.51828972728293),\n",
       "   'overall_ari': 0.3678504433889343},\n",
       "  'MCR': {'mcr': np.float64(0.7621600000000001),\n",
       "   'overall_mcr': np.float64(0.56214)},\n",
       "  'Time': 1.2163031101226807},\n",
       " 18: {'NMI': {'nmi': np.float64(0.6524641691524689),\n",
       "   'overall_nmi': 0.4624453196708264},\n",
       "  'ARI': {'ari': np.float64(0.5182111505109714),\n",
       "   'overall_ari': 0.36760288494858706},\n",
       "  'MCR': {'mcr': np.float64(0.7621700000000001),\n",
       "   'overall_mcr': np.float64(0.56158)},\n",
       "  'Time': 1.1511900424957275},\n",
       " 19: {'NMI': {'nmi': np.float64(0.6523716488480202),\n",
       "   'overall_nmi': 0.46229491307568377},\n",
       "  'ARI': {'ari': np.float64(0.5179882680528999),\n",
       "   'overall_ari': 0.3672555434687736},\n",
       "  'MCR': {'mcr': np.float64(0.7620800000000001),\n",
       "   'overall_mcr': np.float64(0.56096)},\n",
       "  'Time': 1.1366972923278809},\n",
       " 20: {'NMI': {'nmi': np.float64(0.6522315108760627),\n",
       "   'overall_nmi': 0.4621586917218443},\n",
       "  'ARI': {'ari': np.float64(0.5178020843592746),\n",
       "   'overall_ari': 0.36689600749155826},\n",
       "  'MCR': {'mcr': np.float64(0.76198), 'overall_mcr': np.float64(0.56059)},\n",
       "  'Time': 1.134303092956543},\n",
       " 21: {'NMI': {'nmi': np.float64(0.6521369763247415),\n",
       "   'overall_nmi': 0.4619350810346254},\n",
       "  'ARI': {'ari': np.float64(0.5174853679027684),\n",
       "   'overall_ari': 0.3665817366881782},\n",
       "  'MCR': {'mcr': np.float64(0.7618199999999999),\n",
       "   'overall_mcr': np.float64(0.5602)},\n",
       "  'Time': 1.1370201110839844},\n",
       " 22: {'NMI': {'nmi': np.float64(0.6520449445872867),\n",
       "   'overall_nmi': 0.46181082481682956},\n",
       "  'ARI': {'ari': np.float64(0.5172874829811086),\n",
       "   'overall_ari': 0.36631532249282417},\n",
       "  'MCR': {'mcr': np.float64(0.7616), 'overall_mcr': np.float64(0.55979)},\n",
       "  'Time': 1.1242849826812744},\n",
       " 23: {'NMI': {'nmi': np.float64(0.6519868247437199),\n",
       "   'overall_nmi': 0.461650783706693},\n",
       "  'ARI': {'ari': np.float64(0.5171507825249287),\n",
       "   'overall_ari': 0.36606754764813143},\n",
       "  'MCR': {'mcr': np.float64(0.76163), 'overall_mcr': np.float64(0.55941)},\n",
       "  'Time': 1.1240830421447754},\n",
       " 24: {'NMI': {'nmi': np.float64(0.6518689014185275),\n",
       "   'overall_nmi': 0.46151175755931795},\n",
       "  'ARI': {'ari': np.float64(0.5169290865857339),\n",
       "   'overall_ari': 0.3658810063308335},\n",
       "  'MCR': {'mcr': np.float64(0.76152), 'overall_mcr': np.float64(0.55915)},\n",
       "  'Time': 1.1271560192108154},\n",
       " 25: {'NMI': {'nmi': np.float64(0.651821914977207),\n",
       "   'overall_nmi': 0.46147569029075763},\n",
       "  'ARI': {'ari': np.float64(0.5168545879785943),\n",
       "   'overall_ari': 0.3657248769275664},\n",
       "  'MCR': {'mcr': np.float64(0.76143), 'overall_mcr': np.float64(0.55881)},\n",
       "  'Time': 1.1261510848999023},\n",
       " 26: {'NMI': {'nmi': np.float64(0.651678489146648),\n",
       "   'overall_nmi': 0.46136550369800344},\n",
       "  'ARI': {'ari': np.float64(0.5166412854974406),\n",
       "   'overall_ari': 0.365531548123897},\n",
       "  'MCR': {'mcr': np.float64(0.76132), 'overall_mcr': np.float64(0.55849)},\n",
       "  'Time': 1.1811728477478027},\n",
       " 27: {'NMI': {'nmi': np.float64(0.6516654716439269),\n",
       "   'overall_nmi': 0.4613173518929936},\n",
       "  'ARI': {'ari': np.float64(0.5165951324429284),\n",
       "   'overall_ari': 0.36541293818681647},\n",
       "  'MCR': {'mcr': np.float64(0.76118), 'overall_mcr': np.float64(0.55818)},\n",
       "  'Time': 1.1319959163665771},\n",
       " 28: {'NMI': {'nmi': np.float64(0.6516553905919402),\n",
       "   'overall_nmi': 0.4611973339468409},\n",
       "  'ARI': {'ari': np.float64(0.5165431432918087),\n",
       "   'overall_ari': 0.3651897804165985},\n",
       "  'MCR': {'mcr': np.float64(0.76106), 'overall_mcr': np.float64(0.55782)},\n",
       "  'Time': 1.1286141872406006},\n",
       " 29: {'NMI': {'nmi': np.float64(0.6515539159311116),\n",
       "   'overall_nmi': 0.46103529717155384},\n",
       "  'ARI': {'ari': np.float64(0.516416950820872),\n",
       "   'overall_ari': 0.36501631034334475},\n",
       "  'MCR': {'mcr': np.float64(0.76086), 'overall_mcr': np.float64(0.55767)},\n",
       "  'Time': 1.1280450820922852},\n",
       " 30: {'NMI': {'nmi': np.float64(0.6515463085209094),\n",
       "   'overall_nmi': 0.4610652841711035},\n",
       "  'ARI': {'ari': np.float64(0.5162736456097612),\n",
       "   'overall_ari': 0.3649618855674514},\n",
       "  'MCR': {'mcr': np.float64(0.7608100000000001),\n",
       "   'overall_mcr': np.float64(0.55759)},\n",
       "  'Time': 1.1989400386810303},\n",
       " 31: {'NMI': {'nmi': np.float64(0.6515260479114849),\n",
       "   'overall_nmi': 0.4611126244821543},\n",
       "  'ARI': {'ari': np.float64(0.5162055491287283),\n",
       "   'overall_ari': 0.36494551235808753},\n",
       "  'MCR': {'mcr': np.float64(0.76084), 'overall_mcr': np.float64(0.55755)},\n",
       "  'Time': 1.1837701797485352},\n",
       " 32: {'NMI': {'nmi': np.float64(0.65152217010669),\n",
       "   'overall_nmi': 0.4611515168284604},\n",
       "  'ARI': {'ari': np.float64(0.5161737482803433),\n",
       "   'overall_ari': 0.3649606108182683},\n",
       "  'MCR': {'mcr': np.float64(0.76085), 'overall_mcr': np.float64(0.55759)},\n",
       "  'Time': 1.130194902420044},\n",
       " 33: {'NMI': {'nmi': np.float64(0.6514541669925018),\n",
       "   'overall_nmi': 0.4611194950119516},\n",
       "  'ARI': {'ari': np.float64(0.5161153190039947),\n",
       "   'overall_ari': 0.36489668976944006},\n",
       "  'MCR': {'mcr': np.float64(0.76079), 'overall_mcr': np.float64(0.55754)},\n",
       "  'Time': 1.137660026550293},\n",
       " 34: {'NMI': {'nmi': np.float64(0.6514305881962006),\n",
       "   'overall_nmi': 0.46110478596285775},\n",
       "  'ARI': {'ari': np.float64(0.5160932863250686),\n",
       "   'overall_ari': 0.3648681807277871},\n",
       "  'MCR': {'mcr': np.float64(0.7608), 'overall_mcr': np.float64(0.55756)},\n",
       "  'Time': 1.1283001899719238},\n",
       " 35: {'NMI': {'nmi': np.float64(0.6513738869722672),\n",
       "   'overall_nmi': 0.46107627333643675},\n",
       "  'ARI': {'ari': np.float64(0.5160122671676748),\n",
       "   'overall_ari': 0.36485545499120897},\n",
       "  'MCR': {'mcr': np.float64(0.76077), 'overall_mcr': np.float64(0.55762)},\n",
       "  'Time': 1.1276140213012695},\n",
       " 36: {'NMI': {'nmi': np.float64(0.6513610052278576),\n",
       "   'overall_nmi': 0.46106881608428696},\n",
       "  'ARI': {'ari': np.float64(0.5159429177498591),\n",
       "   'overall_ari': 0.36484829534385416},\n",
       "  'MCR': {'mcr': np.float64(0.76077), 'overall_mcr': np.float64(0.55765)},\n",
       "  'Time': 1.1297688484191895},\n",
       " 37: {'NMI': {'nmi': np.float64(0.6513270202816852),\n",
       "   'overall_nmi': 0.46105956795744396},\n",
       "  'ARI': {'ari': np.float64(0.5158750617867429),\n",
       "   'overall_ari': 0.36483752624415633},\n",
       "  'MCR': {'mcr': np.float64(0.76068), 'overall_mcr': np.float64(0.55769)},\n",
       "  'Time': 1.1295702457427979},\n",
       " 38: {'NMI': {'nmi': np.float64(0.6512731524877203),\n",
       "   'overall_nmi': 0.4610169579520256},\n",
       "  'ARI': {'ari': np.float64(0.5158363798672551),\n",
       "   'overall_ari': 0.36480646634546565},\n",
       "  'MCR': {'mcr': np.float64(0.7606), 'overall_mcr': np.float64(0.55768)},\n",
       "  'Time': 1.1307358741760254},\n",
       " 39: {'NMI': {'nmi': np.float64(0.6512232557979633),\n",
       "   'overall_nmi': 0.46097306826924356},\n",
       "  'ARI': {'ari': np.float64(0.5157661948421892),\n",
       "   'overall_ari': 0.3647774208837533},\n",
       "  'MCR': {'mcr': np.float64(0.76057), 'overall_mcr': np.float64(0.5577)},\n",
       "  'Time': 1.1269590854644775},\n",
       " 40: {'NMI': {'nmi': np.float64(0.6512542761043412),\n",
       "   'overall_nmi': 0.460927139215513},\n",
       "  'ARI': {'ari': np.float64(0.5157421928438741),\n",
       "   'overall_ari': 0.3647495947886979},\n",
       "  'MCR': {'mcr': np.float64(0.7606), 'overall_mcr': np.float64(0.5577)},\n",
       "  'Time': 1.1327788829803467},\n",
       " 41: {'NMI': {'nmi': np.float64(0.6511995802539822),\n",
       "   'overall_nmi': 0.4608753537979127},\n",
       "  'ARI': {'ari': np.float64(0.5156848439913604),\n",
       "   'overall_ari': 0.364709327694833},\n",
       "  'MCR': {'mcr': np.float64(0.76056), 'overall_mcr': np.float64(0.55768)},\n",
       "  'Time': 1.1231982707977295},\n",
       " 42: {'NMI': {'nmi': np.float64(0.6511713469261867),\n",
       "   'overall_nmi': 0.4608587625279188},\n",
       "  'ARI': {'ari': np.float64(0.51563795178956),\n",
       "   'overall_ari': 0.3646996758818318},\n",
       "  'MCR': {'mcr': np.float64(0.7605100000000001),\n",
       "   'overall_mcr': np.float64(0.5577)},\n",
       "  'Time': 1.1260149478912354},\n",
       " 43: {'NMI': {'nmi': np.float64(0.6511504080482753),\n",
       "   'overall_nmi': 0.4608499363059096},\n",
       "  'ARI': {'ari': np.float64(0.5156240507712564),\n",
       "   'overall_ari': 0.3646831464124755},\n",
       "  'MCR': {'mcr': np.float64(0.76049), 'overall_mcr': np.float64(0.55767)},\n",
       "  'Time': 1.1264407634735107},\n",
       " 44: {'NMI': {'nmi': np.float64(0.6511066797286074),\n",
       "   'overall_nmi': 0.4608499994023203},\n",
       "  'ARI': {'ari': np.float64(0.5155815130665535),\n",
       "   'overall_ari': 0.3646637546900927},\n",
       "  'MCR': {'mcr': np.float64(0.76047), 'overall_mcr': np.float64(0.55764)},\n",
       "  'Time': 1.1297461986541748},\n",
       " 45: {'NMI': {'nmi': np.float64(0.6510901226177432),\n",
       "   'overall_nmi': 0.4608244588954247},\n",
       "  'ARI': {'ari': np.float64(0.5155677256031592),\n",
       "   'overall_ari': 0.3646493961261257},\n",
       "  'MCR': {'mcr': np.float64(0.7604599999999999),\n",
       "   'overall_mcr': np.float64(0.55763)},\n",
       "  'Time': 1.1284120082855225},\n",
       " 46: {'NMI': {'nmi': np.float64(0.6510738149074091),\n",
       "   'overall_nmi': 0.4608203406885897},\n",
       "  'ARI': {'ari': np.float64(0.5155496778361144),\n",
       "   'overall_ari': 0.3646415287085668},\n",
       "  'MCR': {'mcr': np.float64(0.76045), 'overall_mcr': np.float64(0.55762)},\n",
       "  'Time': 1.130439043045044},\n",
       " 47: {'NMI': {'nmi': np.float64(0.6510848102804488),\n",
       "   'overall_nmi': 0.46080970301834523},\n",
       "  'ARI': {'ari': np.float64(0.5155519759362639),\n",
       "   'overall_ari': 0.3646345393281353},\n",
       "  'MCR': {'mcr': np.float64(0.76046), 'overall_mcr': np.float64(0.55762)},\n",
       "  'Time': 1.1301088333129883},\n",
       " 48: {'NMI': {'nmi': np.float64(0.6510848102804488),\n",
       "   'overall_nmi': 0.46080970301834523},\n",
       "  'ARI': {'ari': np.float64(0.5155519759362639),\n",
       "   'overall_ari': 0.3646345393281353},\n",
       "  'MCR': {'mcr': np.float64(0.76046), 'overall_mcr': np.float64(0.55762)},\n",
       "  'Time': 1.1289169788360596},\n",
       " 49: {'NMI': {'nmi': np.float64(0.6510848102804488),\n",
       "   'overall_nmi': 0.46080970301834523},\n",
       "  'ARI': {'ari': np.float64(0.5155519759362639),\n",
       "   'overall_ari': 0.3646345393281353},\n",
       "  'MCR': {'mcr': np.float64(0.76046), 'overall_mcr': np.float64(0.55762)},\n",
       "  'Time': 1.13084077835083},\n",
       " 50: {'NMI': {'nmi': np.float64(0.6510848102804488),\n",
       "   'overall_nmi': 0.46080970301834523},\n",
       "  'ARI': {'ari': np.float64(0.5155519759362639),\n",
       "   'overall_ari': 0.3646345393281353},\n",
       "  'MCR': {'mcr': np.float64(0.76046), 'overall_mcr': np.float64(0.55762)},\n",
       "  'Time': 1.131201982498169}}"
      ]
     },
     "execution_count": 18,
     "metadata": {},
     "output_type": "execute_result"
    }
   ],
   "source": [
    "aa[3]"
   ]
  },
  {
   "cell_type": "code",
   "execution_count": null,
   "metadata": {},
   "outputs": [],
   "source": []
  }
 ],
 "metadata": {
  "kernelspec": {
   "display_name": "jointsbm-py3.13",
   "language": "python",
   "name": "python3"
  },
  "language_info": {
   "codemirror_mode": {
    "name": "ipython",
    "version": 3
   },
   "file_extension": ".py",
   "mimetype": "text/x-python",
   "name": "python",
   "nbconvert_exporter": "python",
   "pygments_lexer": "ipython3",
   "version": "3.11.11"
  },
  "latex_envs": {
   "LaTeX_envs_menu_present": true,
   "autoclose": false,
   "autocomplete": true,
   "bibliofile": "biblio.bib",
   "cite_by": "apalike",
   "current_citInitial": 1,
   "eqLabelWithNumbers": true,
   "eqNumInitial": 1,
   "hotkeys": {
    "equation": "Ctrl-E",
    "itemize": "Ctrl-I"
   },
   "labels_anchors": false,
   "latex_user_defs": false,
   "report_style_numbering": false,
   "user_envs_cfg": false
  }
 },
 "nbformat": 4,
 "nbformat_minor": 2
}
